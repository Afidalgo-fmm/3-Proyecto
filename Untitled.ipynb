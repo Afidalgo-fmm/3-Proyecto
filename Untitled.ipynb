{
 "cells": [
  {
   "cell_type": "code",
   "execution_count": 1,
   "id": "b20a7a60",
   "metadata": {},
   "outputs": [],
   "source": [
    "from pymongo import MongoClient\n",
    "import dotenv\n",
    "import json\n",
    "import os\n",
    "import requests\n",
    "from dotenv import load_dotenv\n",
    "import requests\n",
    "import pandas as pd\n",
    "import math"
   ]
  },
  {
   "cell_type": "code",
   "execution_count": 2,
   "id": "96a6eba5",
   "metadata": {},
   "outputs": [],
   "source": [
    "client = MongoClient(\"localhost:27017\")\n",
    "db = client.get_database(\"Ironhack\")\n",
    "c = db.get_collection(\"companies\")\n"
   ]
  },
  {
   "cell_type": "code",
   "execution_count": 3,
   "id": "849e2800",
   "metadata": {},
   "outputs": [
    {
     "data": {
      "text/plain": [
       "dict_keys(['_id', 'name', 'permalink', 'crunchbase_url', 'homepage_url', 'blog_url', 'blog_feed_url', 'twitter_username', 'category_code', 'number_of_employees', 'founded_year', 'founded_month', 'founded_day', 'deadpooled_year', 'tag_list', 'alias_list', 'email_address', 'phone_number', 'description', 'created_at', 'updated_at', 'overview', 'image', 'products', 'relationships', 'competitions', 'providerships', 'total_money_raised', 'funding_rounds', 'investments', 'acquisition', 'acquisitions', 'offices', 'milestones', 'video_embeds', 'screenshots', 'external_links', 'partners'])"
      ]
     },
     "execution_count": 3,
     "metadata": {},
     "output_type": "execute_result"
    }
   ],
   "source": [
    "c.find_one().keys()\n"
   ]
  },
  {
   "cell_type": "code",
   "execution_count": 4,
   "id": "9af0c281",
   "metadata": {},
   "outputs": [],
   "source": [
    "#c.distinct(\"description\") # busco las distintas clases de empresas que hay dentro del dataset"
   ]
  },
  {
   "cell_type": "code",
   "execution_count": 5,
   "id": "e1b6c88f",
   "metadata": {},
   "outputs": [],
   "source": [
    "firstcompany = list(c.find({\"description\":\"Community for Video Game Traders\"}))"
   ]
  },
  {
   "cell_type": "code",
   "execution_count": 6,
   "id": "e4a625b2",
   "metadata": {},
   "outputs": [
    {
     "data": {
      "text/plain": [
       "[{'_id': ObjectId('52cdef7e4bab8bd67529b1ca'),\n",
       "  'name': 'SwitchGames',\n",
       "  'permalink': 'switchgames',\n",
       "  'crunchbase_url': 'http://www.crunchbase.com/company/switchgames',\n",
       "  'homepage_url': 'http://www.SwitchGames.com',\n",
       "  'blog_url': 'http://switchgames.blogspot.com/',\n",
       "  'blog_feed_url': '',\n",
       "  'twitter_username': None,\n",
       "  'category_code': 'games_video',\n",
       "  'number_of_employees': 3,\n",
       "  'founded_year': 2008,\n",
       "  'founded_month': 8,\n",
       "  'founded_day': 1,\n",
       "  'deadpooled_year': None,\n",
       "  'deadpooled_month': None,\n",
       "  'deadpooled_day': None,\n",
       "  'deadpooled_url': None,\n",
       "  'tag_list': 'games, game-trading, online-marketplace, video-games',\n",
       "  'alias_list': None,\n",
       "  'email_address': 'kb@switchgames.com',\n",
       "  'phone_number': '',\n",
       "  'description': 'Community for Video Game Traders',\n",
       "  'created_at': 'Mon Feb 23 21:26:36 UTC 2009',\n",
       "  'updated_at': 'Fri Mar 19 01:40:06 UTC 2010',\n",
       "  'overview': '<p>SwitchGames.com, The Gamers Marketplace, is the largest peer-to-peer marketplace dedicated to videogame trading, buying, and selling.  Part social network, part e-commerce, SwitchGames intelligently connects members and automates the process for fast, easy, and safe transactions.  SwitchGames.com empowers members to take control of the secondary game market by providing a platform that removes the middleman and delivers a suite of services that give gamers the best possible value for games.</p>',\n",
       "  'image': {'available_sizes': [[[150, 98],\n",
       "     'assets/images/resized/0003/6802/36802v2-max-150x150.png'],\n",
       "    [[232, 153], 'assets/images/resized/0003/6802/36802v2-max-250x250.png'],\n",
       "    [[232, 153], 'assets/images/resized/0003/6802/36802v2-max-450x450.png']],\n",
       "   'attribution': None},\n",
       "  'products': [],\n",
       "  'relationships': [{'is_past': True,\n",
       "    'title': 'CEO',\n",
       "    'person': {'first_name': 'Kai',\n",
       "     'last_name': 'Bond',\n",
       "     'permalink': 'kai-bond'}},\n",
       "   {'is_past': True,\n",
       "    'title': 'CCO',\n",
       "    'person': {'first_name': 'Jason',\n",
       "     'last_name': 'Crawford',\n",
       "     'permalink': 'jason-crawford'}},\n",
       "   {'is_past': True,\n",
       "    'title': 'Director',\n",
       "    'person': {'first_name': 'T. Trent',\n",
       "     'last_name': 'Gegax',\n",
       "     'permalink': 'trent-gegax'}}],\n",
       "  'competitions': [],\n",
       "  'providerships': [],\n",
       "  'total_money_raised': '$0',\n",
       "  'funding_rounds': [],\n",
       "  'investments': [],\n",
       "  'acquisition': None,\n",
       "  'acquisitions': [],\n",
       "  'offices': [{'description': '',\n",
       "    'address1': '200 E10th St',\n",
       "    'address2': '616',\n",
       "    'zip_code': '10013',\n",
       "    'city': 'New York',\n",
       "    'state_code': 'NY',\n",
       "    'country_code': 'USA',\n",
       "    'latitude': 40.7297485,\n",
       "    'longitude': -73.9867361}],\n",
       "  'milestones': [],\n",
       "  'ipo': None,\n",
       "  'video_embeds': [],\n",
       "  'screenshots': [],\n",
       "  'external_links': [{'external_url': 'http://www.SwitchGames.com',\n",
       "    'title': ''}],\n",
       "  'partners': []}]"
      ]
     },
     "execution_count": 6,
     "metadata": {},
     "output_type": "execute_result"
    }
   ],
   "source": [
    "firstcompany"
   ]
  },
  {
   "cell_type": "code",
   "execution_count": null,
   "id": "705cd9f3",
   "metadata": {},
   "outputs": [],
   "source": [
    "def coger(x):\n",
    "    l = []\n",
    "    for i in x:\n",
    "        for j,s in i.items():\n",
    "            for w,e in s.items():\n",
    "                if w == \"zip_code\":\n",
    "                    l.append(s)\n",
    "    return l"
   ]
  },
  {
   "cell_type": "code",
   "execution_count": null,
   "id": "39f63a5c",
   "metadata": {},
   "outputs": [],
   "source": [
    "print(coger(firstcompany))"
   ]
  },
  {
   "cell_type": "code",
   "execution_count": null,
   "id": "ebe43723",
   "metadata": {},
   "outputs": [],
   "source": [
    "a  = list(c.find({\"office\":\"country_code\"}))"
   ]
  },
  {
   "cell_type": "code",
   "execution_count": 8,
   "id": "8f3e9871",
   "metadata": {},
   "outputs": [
    {
     "data": {
      "text/plain": [
       "<Response [200]>"
      ]
     },
     "execution_count": 8,
     "metadata": {},
     "output_type": "execute_result"
    }
   ],
   "source": [
    "url = 'https://console.cloud.google.com/google/maps-apis/apis/places-backend.googleapis.com/metrics?authuser=1&hl=es&project=clean-terminal-332111'\n",
    "mapeo = requests.get(url)\n",
    "mapeo"
   ]
  },
  {
   "cell_type": "code",
   "execution_count": null,
   "id": "71a31526",
   "metadata": {},
   "outputs": [],
   "source": []
  }
 ],
 "metadata": {
  "kernelspec": {
   "display_name": "ironhack",
   "language": "python",
   "name": "ironhack"
  },
  "language_info": {
   "codemirror_mode": {
    "name": "ipython",
    "version": 3
   },
   "file_extension": ".py",
   "mimetype": "text/x-python",
   "name": "python",
   "nbconvert_exporter": "python",
   "pygments_lexer": "ipython3",
   "version": "3.8.5"
  }
 },
 "nbformat": 4,
 "nbformat_minor": 5
}
